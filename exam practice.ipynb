{
 "cells": [
  {
   "cell_type": "code",
   "execution_count": 2,
   "id": "13f79eb2",
   "metadata": {},
   "outputs": [
    {
     "name": "stdout",
     "output_type": "stream",
     "text": [
      "enter start year2022\n",
      "enter end year2040\n",
      "2024\n",
      "2028\n",
      "2032\n",
      "2036\n"
     ]
    }
   ],
   "source": [
    "s=int(input(\"enter start year\"))\n",
    "e=int(input(\"enter end year\"))\n",
    "for i in range(s,e):\n",
    "    if(i%4==0 and i%100!=0) or i%400==0:\n",
    "        print(i)"
   ]
  },
  {
   "cell_type": "code",
   "execution_count": 1,
   "id": "fb8815f6",
   "metadata": {},
   "outputs": [
    {
     "name": "stdout",
     "output_type": "stream",
     "text": [
      "[1, 2, 3, 9, 8]\n"
     ]
    }
   ],
   "source": [
    "li=[1,2,3,-3,-5,-6,9,8,0]\n",
    "l=[i for i in li if i>0]\n",
    "print(l)"
   ]
  },
  {
   "cell_type": "code",
   "execution_count": 12,
   "id": "6e2ecb89",
   "metadata": {},
   "outputs": [
    {
     "name": "stdout",
     "output_type": "stream",
     "text": [
      "enter the no of elements5\n",
      "[0, 1, 4, 9, 16, 25]\n"
     ]
    }
   ],
   "source": [
    "n=int(input(\"enter the no of elements\"))\n",
    "n1=[i*i for i in range(n+1)]\n",
    "print(n1)"
   ]
  },
  {
   "cell_type": "code",
   "execution_count": 14,
   "id": "c6a8cd3d",
   "metadata": {},
   "outputs": [
    {
     "name": "stdout",
     "output_type": "stream",
     "text": [
      "enter a string:reshmaAU\n",
      "['e', 'a', 'A', 'U']\n"
     ]
    }
   ],
   "source": [
    "s=input(\"enter a string:\")\n",
    "s1=[i for i in s if i in 'aeiouAEIOU']\n",
    "print(s1)"
   ]
  },
  {
   "cell_type": "code",
   "execution_count": 17,
   "id": "2cf6ecc3",
   "metadata": {},
   "outputs": [
    {
     "name": "stdout",
     "output_type": "stream",
     "text": [
      "enter a string:abcdefghijklmnopqrstuvwxyz\n",
      "[97, 98, 99, 100, 101, 102, 103, 104, 105, 106, 107, 108, 109, 110, 111, 112, 113, 114, 115, 116, 117, 118, 119, 120, 121, 122]\n"
     ]
    }
   ],
   "source": [
    "s=input(\"enter a string:\")\n",
    "s1=[ord(i) for i in s]\n",
    "print(s1)"
   ]
  },
  {
   "cell_type": "code",
   "execution_count": 6,
   "id": "cfffa50d",
   "metadata": {},
   "outputs": [
    {
     "name": "stdout",
     "output_type": "stream",
     "text": [
      "enter a stringhi hello hi hi a b cv\n",
      "{'hi': 3, 'hello': 1, 'a': 1, 'b': 1, 'cv': 1}\n"
     ]
    }
   ],
   "source": [
    "str=input(\"enter a string\")\n",
    "counts = dict()\n",
    "words = str.split()\n",
    "    \n",
    "for word in words:\n",
    "        if word in counts:\n",
    "            counts[word] += 1\n",
    "        else:\n",
    "            counts[word] = 1\n",
    "\n",
    "print(counts)\n"
   ]
  },
  {
   "cell_type": "code",
   "execution_count": 24,
   "id": "a936c99e",
   "metadata": {},
   "outputs": [
    {
     "name": "stdout",
     "output_type": "stream",
     "text": [
      "enter the radius :4\n",
      "area of circle is: 50.24\n"
     ]
    }
   ],
   "source": [
    "r=int(input(\"enter the radius :\"))\n",
    "pi=3.14\n",
    "print(\"area of circle is:\",pi*r*r)"
   ]
  },
  {
   "cell_type": "code",
   "execution_count": 27,
   "id": "1238cd35",
   "metadata": {},
   "outputs": [
    {
     "name": "stdout",
     "output_type": "stream",
     "text": [
      "sum not equal\n",
      "not in list\n"
     ]
    }
   ],
   "source": [
    "l1=[1,2,3,4,5]\n",
    "l2=[4,5,6,7,8]\n",
    "if len(l1)==len(l2):\n",
    "    print(\"equal\")\n",
    "if(sum(l1)==sum(l2)):\n",
    "    print(\"equal sum\")\n",
    "else:\n",
    "    print(\"sum not equal\")\n",
    "for i in l1:\n",
    "    if i in l2:\n",
    "        print(i,end=\" \")\n",
    "if i not in l2:\n",
    "    print(\"not in list\")"
   ]
  },
  {
   "cell_type": "code",
   "execution_count": 16,
   "id": "30967d25",
   "metadata": {},
   "outputs": [
    {
     "name": "stdout",
     "output_type": "stream",
     "text": [
      "enter the number of elements:5\n",
      "enter elements1\n",
      "enter elements2\n",
      "enter elements102\n",
      "enter elements3\n",
      "enter elements400\n",
      "[1, 2, 'over', 3, 'over']\n"
     ]
    }
   ],
   "source": [
    "n=int(input(\"enter the number of elements:\"))\n",
    "li=[]\n",
    "for i in range(n):\n",
    "    l=int(input(\"enter elements\"))\n",
    "    if l>=100:\n",
    "        li.append('over')\n",
    "    else:\n",
    "        li.append(l)\n",
    "print(li)"
   ]
  },
  {
   "cell_type": "code",
   "execution_count": 20,
   "id": "9ce9bf7a",
   "metadata": {},
   "outputs": [
    {
     "name": "stdout",
     "output_type": "stream",
     "text": [
      "occurence of a is 7 times\n"
     ]
    }
   ],
   "source": [
    "l=['reshma','aravind','akshaya','ashik']\n",
    "s=0\n",
    "for i in l:\n",
    "    s= s+i.count('a')\n",
    "print(\"occurence of a is\",s,\"times\")"
   ]
  },
  {
   "cell_type": "code",
   "execution_count": 5,
   "id": "256c0d80",
   "metadata": {},
   "outputs": [
    {
     "name": "stdout",
     "output_type": "stream",
     "text": [
      "enter first number20\n",
      "enter scnd number17\n",
      "enter third number12\n",
      "20 is biggest\n"
     ]
    }
   ],
   "source": [
    "a=int(input(\"enter first number\"))\n",
    "b=int(input(\"enter scnd number\"))\n",
    "c=int(input(\"enter third number\"))\n",
    "if a>b and a>c:\n",
    "    print(a,\"is biggest\")\n",
    "elif b>a and b>c:\n",
    "    print(b,\"is biggest\")\n",
    "else:\n",
    "    print(c,\"is biggest\")"
   ]
  },
  {
   "cell_type": "code",
   "execution_count": 6,
   "id": "c0bdd1a9",
   "metadata": {},
   "outputs": [
    {
     "name": "stdout",
     "output_type": "stream",
     "text": [
      "enter a string:bubble\n",
      "bu$$le\n"
     ]
    }
   ],
   "source": [
    "word=input(\"enter a string:\")\n",
    "ch=word[0]\n",
    "word1=word.replace(ch,'$')\n",
    "word=ch+word1[1:]\n",
    "print(word)"
   ]
  },
  {
   "cell_type": "code",
   "execution_count": 14,
   "id": "cc97d1d8",
   "metadata": {},
   "outputs": [
    {
     "name": "stdout",
     "output_type": "stream",
     "text": [
      "enter a string:python\n",
      "python\n",
      "['n', 'y', 't', 'h', 'o', 'p']\n",
      "nythop"
     ]
    }
   ],
   "source": [
    "word=input(\"enter a string:\")\n",
    "print(word)\n",
    "s=list(word)\n",
    "temp=s[0]\n",
    "s[0]=s[-1]\n",
    "s[-1]=temp\n",
    "print(s)\n",
    "for i in s:\n",
    "    l1=str(i)\n",
    "    print(l1,end=\"\")"
   ]
  },
  {
   "cell_type": "code",
   "execution_count": 18,
   "id": "3049be48",
   "metadata": {},
   "outputs": [
    {
     "name": "stdout",
     "output_type": "stream",
     "text": [
      "enter the file name:abc.txt\n",
      "txt\n"
     ]
    }
   ],
   "source": [
    "f=input(\"enter the file name:\")\n",
    "f1=f.split('.')\n",
    "print(f1[-1])"
   ]
  },
  {
   "cell_type": "code",
   "execution_count": 20,
   "id": "b8d03d60",
   "metadata": {},
   "outputs": [
    {
     "name": "stdout",
     "output_type": "stream",
     "text": [
      "enter the colorsblue,green,white,yellow,pink\n",
      "['blue', 'green', 'white', 'yellow', 'pink']\n",
      "blue\n",
      "pink\n"
     ]
    }
   ],
   "source": [
    "n=input(\"enter the colors\")\n",
    "li=list(map(str,n.split(',')))\n",
    "print(li)\n",
    "print(li[0])\n",
    "print(li[-1])"
   ]
  },
  {
   "cell_type": "code",
   "execution_count": 21,
   "id": "39210dfa",
   "metadata": {},
   "outputs": [
    {
     "name": "stdout",
     "output_type": "stream",
     "text": [
      "enter a number:4\n",
      "492\n"
     ]
    }
   ],
   "source": [
    "n=int(input(\"enter a number:\"))\n",
    "temp=str(n)\n",
    "temp1=temp+temp\n",
    "temp2=temp+temp+temp\n",
    "s=int(temp1)\n",
    "s1=int(temp2)\n",
    "print(n+s+s1)\n"
   ]
  },
  {
   "cell_type": "code",
   "execution_count": 22,
   "id": "ed457902",
   "metadata": {},
   "outputs": [
    {
     "name": "stdout",
     "output_type": "stream",
     "text": [
      "enter first string:twinkle\n",
      "enter second string:bingo\n",
      "bwinkle tingo\n"
     ]
    }
   ],
   "source": [
    "a=input(\"enter first string:\")\n",
    "b=input(\"enter second string:\")\n",
    "atemp=b[0]+a[1:]\n",
    "btemp=a[0]+b[1:]\n",
    "a=atemp\n",
    "b=btemp\n",
    "print(a,b)\n"
   ]
  },
  {
   "cell_type": "code",
   "execution_count": 23,
   "id": "62f187da",
   "metadata": {},
   "outputs": [
    {
     "name": "stdout",
     "output_type": "stream",
     "text": [
      "red\n"
     ]
    }
   ],
   "source": [
    "c=['yellow','red','pink']\n",
    "c1=['blue','yellow','pink']\n",
    "for i in c:\n",
    "    if i not in c1:\n",
    "        print(i)"
   ]
  },
  {
   "cell_type": "code",
   "execution_count": 32,
   "id": "cfe7360e",
   "metadata": {},
   "outputs": [
    {
     "name": "stdout",
     "output_type": "stream",
     "text": [
      "{1: 'a', 2: 'b', 3: 'c', 5: 's', 7: 'd'}\n",
      "{7: 'd', 5: 's', 3: 'c', 2: 'b', 1: 'a'}\n"
     ]
    }
   ],
   "source": [
    "d={1:'a',3:'c',7:'d',2:'b',5:'s'}\n",
    "l=list(d.items())\n",
    "#print(l)\n",
    "l.sort()\n",
    "d1=dict(l)\n",
    "print(d1)\n",
    "\n",
    "l1=list(d1.items())\n",
    "#print(l1)\n",
    "l1.sort(reverse=True)\n",
    "d1=dict(l1)\n",
    "print(d1)"
   ]
  },
  {
   "cell_type": "code",
   "execution_count": 35,
   "id": "a6bac654",
   "metadata": {},
   "outputs": [
    {
     "name": "stdout",
     "output_type": "stream",
     "text": [
      "enter first number:100\n",
      "enter second number:33\n",
      "100 = 33 * 3 + 1\n",
      "33 = 1 * 33 + 0\n",
      "gcd= 1\n"
     ]
    }
   ],
   "source": [
    "a=int(input(\"enter first number:\"))\n",
    "b=int(input(\"enter second number:\"))\n",
    "r=-1\n",
    "while(r!=0):\n",
    "    r=a%b\n",
    "    q=a//b\n",
    "    print(a,\"=\",b,\"*\",q,\"+\",r)\n",
    "    a,b=b,r\n",
    "print(\"gcd=\",a)\n",
    "    "
   ]
  },
  {
   "cell_type": "code",
   "execution_count": 47,
   "id": "314b7863",
   "metadata": {},
   "outputs": [
    {
     "name": "stdout",
     "output_type": "stream",
     "text": [
      "{9: 'ab', 31: 'ca', 17: 'de', 22: 'bf', 15: 'sq', 1: 'a', 3: 'c', 7: 'd', 2: 'b', 5: 's'}\n"
     ]
    }
   ],
   "source": [
    "d={1:'a',3:'c',7:'d',2:'b',5:'s'}\n",
    "d1={9:'ab',31:'ca',17:'de',22:'bf',15:'sq'}\n",
    "d1.update(d)\n",
    "print(d1)"
   ]
  },
  {
   "cell_type": "code",
   "execution_count": 2,
   "id": "2c478655",
   "metadata": {},
   "outputs": [
    {
     "name": "stdout",
     "output_type": "stream",
     "text": [
      "enter elements:1 2 3 4 5 6 7 8\n",
      "[1, 2, 3, 4, 5, 6, 7, 8]\n",
      "[1, 3, 5, 7]\n"
     ]
    }
   ],
   "source": [
    "n=input(\"enter elements:\")\n",
    "l=list(map(int,n.split()))\n",
    "print(l)\n",
    "l2=[]\n",
    "for i in l:\n",
    "    if i%2!=0:\n",
    "        l2.append(i)\n",
    "print(l2)\n",
    "    "
   ]
  },
  {
   "cell_type": "code",
   "execution_count": 8,
   "id": "fef4c297",
   "metadata": {},
   "outputs": [
    {
     "name": "stdout",
     "output_type": "stream",
     "text": [
      "enter a number:5\n",
      "120\n"
     ]
    }
   ],
   "source": [
    "n=int(input(\"enter a number:\"))\n",
    "fact=1\n",
    "for i in range(1,n+1):\n",
    "    fact=fact*i\n",
    "print(fact)"
   ]
  },
  {
   "cell_type": "code",
   "execution_count": 13,
   "id": "8ee253ec",
   "metadata": {},
   "outputs": [
    {
     "name": "stdout",
     "output_type": "stream",
     "text": [
      "enter the no of terms10\n",
      "0 1 1 2 3 5 8 13 21 34 55 "
     ]
    }
   ],
   "source": [
    "n=int(input(\"enter the no of terms\"))\n",
    "a,b=0,1\n",
    "print(a,b,end=\" \")\n",
    "for i in range(2,n+1):\n",
    "    c=a+b\n",
    "    print(c,end=\" \")\n",
    "    a=b\n",
    "    b=c"
   ]
  },
  {
   "cell_type": "code",
   "execution_count": 18,
   "id": "57ccffc9",
   "metadata": {},
   "outputs": [
    {
     "name": "stdout",
     "output_type": "stream",
     "text": [
      "enter the elements:1 2 3 4 5\n",
      "[1, 2, 3, 4, 5]\n",
      "15\n"
     ]
    }
   ],
   "source": [
    "n=input(\"enter the elements:\")\n",
    "li=list(map(int,n.split()))\n",
    "print(li)\n",
    "s=0\n",
    "for i in li:\n",
    "    s=s+i\n",
    "print(s)\n"
   ]
  },
  {
   "cell_type": "code",
   "execution_count": 40,
   "id": "3fc58d19",
   "metadata": {},
   "outputs": [
    {
     "name": "stdout",
     "output_type": "stream",
     "text": [
      "enter step number:4\n",
      "\n",
      "1 \n",
      "2 4 \n",
      "3 6 9 \n",
      "4 8 12 16 "
     ]
    }
   ],
   "source": [
    "n=int(input(\"enter step number:\"))\n",
    "for i in range(1,n+1):\n",
    "    print()\n",
    "    for j in range(1,i+1):\n",
    "        print(j*i,end=\" \")\n",
    "    \n",
    "    \n"
   ]
  },
  {
   "cell_type": "code",
   "execution_count": 51,
   "id": "ac6d4edc",
   "metadata": {},
   "outputs": [
    {
     "name": "stdout",
     "output_type": "stream",
     "text": [
      "enter a string:reshmaresh\n",
      "{'r': 2, 'e': 2, 's': 2, 'h': 2, 'm': 1, 'a': 1}\n"
     ]
    }
   ],
   "source": [
    "n=input(\"enter a string:\")\n",
    "d={}\n",
    "for i in n:\n",
    "    k=d.keys()\n",
    "   # print(k)\n",
    "    if i in k:\n",
    "        d[i]+=1\n",
    "    else:\n",
    "        d[i]=1\n",
    "print(d)\n"
   ]
  },
  {
   "cell_type": "code",
   "execution_count": 60,
   "id": "01907f59",
   "metadata": {},
   "outputs": [
    {
     "name": "stdout",
     "output_type": "stream",
     "text": [
      "enter a string:ab\n",
      "ab\n"
     ]
    }
   ],
   "source": [
    "n=input(\"enter a string:\")\n",
    "if len(n)<3:\n",
    "    print(n)\n",
    "elif n[-3:]=='ing':\n",
    "    print(n+'ly')\n",
    "else:\n",
    "    print(n+'ing')"
   ]
  },
  {
   "cell_type": "code",
   "execution_count": 73,
   "id": "49354f83",
   "metadata": {},
   "outputs": [
    {
     "name": "stdout",
     "output_type": "stream",
     "text": [
      "enter the step number:5\n",
      "\n",
      "* \n",
      "* * \n",
      "* * * \n",
      "* * * * \n",
      "* * * * * \n",
      "* * * * \n",
      "* * * \n",
      "* * \n",
      "* \n"
     ]
    }
   ],
   "source": [
    "n=int(input(\"enter the step number:\"))\n",
    "for i in range(n):\n",
    "    for j in range(i):\n",
    "        print(\"*\",end=\" \")\n",
    "    print()\n",
    "for i in range(n,0,-1):\n",
    "    for j in range(i):\n",
    "        print(\"*\",end=\" \")\n",
    "    print()"
   ]
  },
  {
   "cell_type": "code",
   "execution_count": 78,
   "id": "ef7ef632",
   "metadata": {},
   "outputs": [
    {
     "name": "stdout",
     "output_type": "stream",
     "text": [
      "enter a number:12\n",
      "1 2 3 4 6 12 "
     ]
    }
   ],
   "source": [
    "def fact():\n",
    "    n=int(input(\"enter a number:\"))\n",
    "    for i in range(1,n+1):\n",
    "        if n%i==0:\n",
    "            print(i,end=\" \")\n",
    "fact()"
   ]
  },
  {
   "cell_type": "code",
   "execution_count": 92,
   "id": "6840cc01",
   "metadata": {},
   "outputs": [
    {
     "name": "stdout",
     "output_type": "stream",
     "text": [
      "enter the elements:aaa sss xx\n",
      "['aaa', 'sss', 'xx']\n"
     ]
    }
   ],
   "source": [
    "s=input(\"enter the elements:\")\n",
    "l=list(map(str,s.split()))\n",
    "print(l)\n",
    "max1=len(l[0])\n",
    "temp=l[0]\n",
    "for i in l:\n",
    "    if len(i)>max1:\n",
    "        max1=len(i)\n",
    "        temp=i\n",
    "        if len(temp)==max1:\n",
    "            print(\"the word with longest length is\",temp,\"and the length is\",max1)\n"
   ]
  },
  {
   "cell_type": "code",
   "execution_count": 91,
   "id": "ad982c40",
   "metadata": {},
   "outputs": [
    {
     "name": "stdout",
     "output_type": "stream",
     "text": [
      "Enter the number of elements in list:3\n",
      "Enter element:wwww\n",
      "Enter element:ww\n",
      "Enter element:dddd\n",
      "The word with the longest length is: wwww and the length is: 4\n",
      "The word with the longest length is: dddd and the length is: 4\n"
     ]
    }
   ],
   "source": [
    "a=[]\n",
    "n= int(input(\"Enter the number of elements in list:\"))\n",
    "for x in range(0,n):\n",
    "    element=input(\"Enter element:\" )\n",
    "    a.append(element)\n",
    "max1=len(a[0])\n",
    "temp=a[0]\n",
    "for i in a:\n",
    "    if(len(i)>=max1): \n",
    "        max1=len(i)\n",
    "        temp=i\n",
    "        if len(temp)==max1:\n",
    "            print(\"The word with the longest length is:\",temp ,\"and the length is:\",max1)"
   ]
  },
  {
   "cell_type": "code",
   "execution_count": 94,
   "id": "1c268f40",
   "metadata": {},
   "outputs": [
    {
     "name": "stdout",
     "output_type": "stream",
     "text": [
      "enter the length10\n",
      "enter the breadth2\n",
      "area= 20\n",
      "enter sides2\n",
      "4\n"
     ]
    }
   ],
   "source": [
    "ln=int(input(\"enter the length\"))\n",
    "br=int(input(\"enter the breadth\"))\n",
    "a=lambda l,b:l*b\n",
    "print(\"area=\",a(ln,br))\n",
    "s=int(input(\"enter sides\"))\n",
    "b=lambda s:s*s\n",
    "print(b(s))\n"
   ]
  },
  {
   "cell_type": "code",
   "execution_count": 109,
   "id": "3d45d18d",
   "metadata": {},
   "outputs": [
    {
     "name": "stdout",
     "output_type": "stream",
     "text": [
      "['hi', 'hello', 'how', 'are', 'you']\n"
     ]
    }
   ],
   "source": [
    "f=open(\"new.txt\",\"r\")\n",
    "f1=f.readlines()\n",
    "l=[]\n",
    "for i in f1:\n",
    "    v=i.rstrip()\n",
    "    l.append(v)\n",
    "print(l)\n"
   ]
  },
  {
   "cell_type": "code",
   "execution_count": null,
   "id": "6e3bea32",
   "metadata": {},
   "outputs": [],
   "source": []
  }
 ],
 "metadata": {
  "kernelspec": {
   "display_name": "Python 3 (ipykernel)",
   "language": "python",
   "name": "python3"
  },
  "language_info": {
   "codemirror_mode": {
    "name": "ipython",
    "version": 3
   },
   "file_extension": ".py",
   "mimetype": "text/x-python",
   "name": "python",
   "nbconvert_exporter": "python",
   "pygments_lexer": "ipython3",
   "version": "3.9.12"
  }
 },
 "nbformat": 4,
 "nbformat_minor": 5
}
